{
  "cells": [
    {
      "cell_type": "code",
      "execution_count": null,
      "id": "69d82d0b",
      "metadata": {
        "id": "69d82d0b",
        "outputId": "391a5b1f-b140-4a9a-af9d-07bff2c1095e"
      },
      "outputs": [
        {
          "name": "stdout",
          "output_type": "stream",
          "text": [
            "The Result: 59.99999999999902\n"
          ]
        }
      ],
      "source": [
        "import numpy as np\n",
        "import pandas as pd\n",
        "import tkinter as tk\n",
        "from tkinter import Label, Entry, Button\n",
        "\n",
        "class MultipleLinearRegression:\n",
        "    def __init__(self):\n",
        "        self.coefficients = None\n",
        "\n",
        "    def fit(self, X, y):\n",
        "        X = np.hstack((np.ones((X.shape[0], 1)), X))\n",
        "        self.coefficients = np.linalg.inv(X.T @ X) @ X.T @ y\n",
        "\n",
        "    def predict(self, X):\n",
        "        X = np.hstack((np.ones((X.shape[0], 1)), X))\n",
        "        return X @ self.coefficients\n",
        "\n",
        "\n",
        "data = pd.read_csv('add.csv')\n",
        "\n",
        "\n",
        "model = MultipleLinearRegression()\n",
        "model.fit(data[['x', 'y']], data['sum'])\n",
        "\n",
        "\n",
        "def show_entry_fields():\n",
        "    p1 = float(e1.get())\n",
        "    p2 = float(e2.get())\n",
        "\n",
        "\n",
        "    X_test = np.array([[p1, p2]])\n",
        "\n",
        "\n",
        "    result = model.predict(X_test)[0]\n",
        "\n",
        "\n",
        "    Label(master, text='Sum is = ').grid(row=4)\n",
        "    Label(master, text=result).grid(row=4, column=1)\n",
        "    print(\"The Result:\", result)\n",
        "\n",
        "master = tk.Tk()\n",
        "master.title(\"Addition of TWO numbers using ML\")\n",
        "\n",
        "Label(master, text=\"Addition of TWO numbers using ML\", bg='black', fg='white').grid(row=0, columnspan=2)\n",
        "Label(master, text=\"Enter First Number\").grid(row=1)\n",
        "Label(master, text=\"Enter Second Number\").grid(row=2)\n",
        "\n",
        "e1 = Entry(master)\n",
        "e2 = Entry(master)\n",
        "\n",
        "e1.grid(row=1, column=1)\n",
        "e2.grid(row=2, column=1)\n",
        "Button(master, text='Predict', command=show_entry_fields).grid()\n",
        "\n",
        "tk.mainloop()\n"
      ]
    },
    {
      "cell_type": "code",
      "execution_count": null,
      "id": "38b5e09c",
      "metadata": {
        "id": "38b5e09c"
      },
      "outputs": [],
      "source": []
    }
  ],
  "metadata": {
    "kernelspec": {
      "display_name": "Python 3 (ipykernel)",
      "language": "python",
      "name": "python3"
    },
    "language_info": {
      "codemirror_mode": {
        "name": "ipython",
        "version": 3
      },
      "file_extension": ".py",
      "mimetype": "text/x-python",
      "name": "python",
      "nbconvert_exporter": "python",
      "pygments_lexer": "ipython3",
      "version": "3.9.7"
    },
    "colab": {
      "provenance": []
    }
  },
  "nbformat": 4,
  "nbformat_minor": 5
}